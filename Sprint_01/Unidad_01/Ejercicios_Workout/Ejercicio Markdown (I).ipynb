{
 "cells": [
  {
   "cell_type": "markdown",
   "id": "a49f0479-8294-495f-a212-3f4d3300d3f9",
   "metadata": {},
   "source": [
    "##Ejercicios Markdown (I)"
   ]
  },
  {
   "cell_type": "markdown",
   "id": "db5c32a9-8c4f-4fce-bd66-83dd32eae179",
   "metadata": {},
   "source": [
    "#Ciencia de Datos\n",
    "##Introducción\n",
    "###Herramientas"
   ]
  },
  {
   "cell_type": "code",
   "execution_count": null,
   "id": "3fae8628-b561-4347-88e0-7f4d5caa6b4a",
   "metadata": {},
   "outputs": [],
   "source": []
  }
 ],
 "metadata": {
  "kernelspec": {
   "display_name": "Python 3 (ipykernel)",
   "language": "python",
   "name": "python3"
  },
  "language_info": {
   "codemirror_mode": {
    "name": "ipython",
    "version": 3
   },
   "file_extension": ".py",
   "mimetype": "text/x-python",
   "name": "python",
   "nbconvert_exporter": "python",
   "pygments_lexer": "ipython3",
   "version": "3.11.3"
  }
 },
 "nbformat": 4,
 "nbformat_minor": 5
}
