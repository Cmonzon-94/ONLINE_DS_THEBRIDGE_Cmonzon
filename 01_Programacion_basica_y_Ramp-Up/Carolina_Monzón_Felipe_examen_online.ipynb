{
 "cells": [
  {
   "cell_type": "markdown",
   "id": "1f1401c1-4dc9-4902-95bf-160715a42a25",
   "metadata": {},
   "source": [
    "# Prueba de Ramp-up"
   ]
  },
  {
   "cell_type": "markdown",
   "id": "1b34c670-a6dd-482d-9b04-5babee7be17a",
   "metadata": {},
   "source": [
    "Antes de comenzar, cambia el nombre del archivo notebook poniéndole delante tu nombre y primer apellido:\n",
    "\n",
    "* ``<nombre_apellido>_examen_online.ipynb``"
   ]
  },
  {
   "cell_type": "code",
   "execution_count": null,
   "id": "c8d9a657-272c-425a-9ac4-ea59f479673c",
   "metadata": {},
   "outputs": [],
   "source": [
    "# Escribe tu nombre en la variable:\n",
    "nombre_y_apellidos = \"Carolina_Monzón_Felipe\" "
   ]
  },
  {
   "cell_type": "code",
   "execution_count": 2,
   "id": "2e9f9af5-076c-44ec-9a80-95c0e99cdc58",
   "metadata": {},
   "outputs": [],
   "source": [
    "\"\"\"\n",
    "Criterios de corrección:\n",
    "\n",
    "ejecución (ausencia de errores y obtención de resultados)\n",
    "estructura del código\n",
    "uso correcto de variables\n",
    "manejo de tipo de variables\n",
    "asignaciones\n",
    "operaciones booleanas\n",
    "manejo lógico de flujos de control y bucles\n",
    "uso de colecciones\n",
    "uso de funciones\n",
    "\"\"\";\n",
    "\n",
    "# Ejemplo de como queremos ver el código para más de un intento:\n",
    "\n",
    "# intento 1\n",
    "#your code\n",
    "\n",
    "# intento 2\n",
    "#your code"
   ]
  },
  {
   "cell_type": "code",
   "execution_count": 3,
   "id": "bb16d0e3-3bb9-4f2b-944e-8fc35e628701",
   "metadata": {},
   "outputs": [],
   "source": [
    "# crea todas las celdas que necesites"
   ]
  },
  {
   "cell_type": "markdown",
   "id": "9e02b8f5-6f66-4e73-acfa-7f8c3977de2a",
   "metadata": {},
   "source": [
    "#### Notas y pruebas de apoyo para contestar las preguntas\n",
    "\n",
    "\n",
    "Cualquier código aunque no esté correcto nos dirá más de ti que no escribir nada. "
   ]
  },
  {
   "cell_type": "markdown",
   "id": "57d6b062-27f8-4377-b583-d662777b0bd7",
   "metadata": {},
   "source": [
    "__Debes subir este notebook a tu REPO PERSONAL__\n",
    "\n",
    "__Hora: hasta las 13:30 del 06/11/2024__"
   ]
  },
  {
   "cell_type": "markdown",
   "id": "062d81e8",
   "metadata": {},
   "source": [
    "#### Ejercicio 1\n",
    "\n",
    "Disponemos de una lista con información sobre varios empleados:\n",
    "\n",
    "    empleados = \n",
    "    [[12345, \"Juan Rodríguez\", 53, [\"Director financiero\"], 2],[56789, \"Laura Pérez\", 41, [\"CEO\", \"Director\", \"Gerente\"], 2],[88354, \"Pedro Álvarez\", 26, [\"Asistente\",\"Gestor comercial\"], 3]]\n",
    "\n",
    "Respecto de cada empleado, la lista contiene cinco elementos: en el primero almacenamos su tfno, en el segundo su nombre, en el tercero su edad, en el cuarto los puestos que ha desempeñado en la empresa (en forma de lista) y en el quinto su código postal.\n",
    "\n",
    "1. Siguiendo la misma estructura, incluye un nuevo empleado en la última posición de la lista empleados.\n",
    "\n",
    "2. Mostrar por pantalla, sin uso de funciones (salvo print) ni bucles: \n",
    "\n",
    "    - El nombre y la edad del tercer empleado de la lista empleados.\n",
    "    - Los puestos desempeñados por Pedro Álvarez, ordenados de atras a adelante (es decir, de Gestor comercial a Asistente)\n",
    "    - Si el nuevo empleado que has añadido tiene más o igual a 60 años, muestra por pantalla los puestos que el nuevo empleado haya desempeñado en la empresa. En caso contrario, muestra los puestos desempeñados por Laura Pérez y Juan Rodriguez."
   ]
  },
  {
   "cell_type": "code",
   "execution_count": 98,
   "id": "ae316b4b",
   "metadata": {},
   "outputs": [],
   "source": [
    "#Declaramos la lista\n",
    "empleados = [[12345, \"Juan Rodríguez\", 53, [\"Director financiero\"], 2],\n",
    "             [56789, \"Laura Pérez\", 41, [\"CEO\", \"Director\", \"Gerente\"], 2],\n",
    "             [88354, \"Pedro Álvarez\", 26, [\"Asistente\",\"Gestor comercial\"], 3]]"
   ]
  },
  {
   "cell_type": "code",
   "execution_count": 9,
   "id": "ecaa7281",
   "metadata": {},
   "outputs": [
    {
     "name": "stdout",
     "output_type": "stream",
     "text": [
      "[[12345, 'Juan Rodríguez', 53, ['Director financiero'], 2], [56789, 'Laura Pérez', 41, ['CEO', 'Director', 'Gerente'], 2], [88354, 'Pedro Álvarez', 26, ['Asistente', 'Gestor comercial'], 3], 85391, 'Rodrigo el profe', 35, ['CEO The Bridge'], 255]\n"
     ]
    }
   ],
   "source": [
    "#Añadimos un nuevo empleado\n",
    "empleado_2 = [85391, \"Rodrigo el profe\", 35, [\"CEO The Bridge\"], 255]\n",
    "empleados_total= empleados+empleado_2\n",
    "print(empleados_total)"
   ]
  },
  {
   "cell_type": "code",
   "execution_count": 121,
   "id": "58c208c3",
   "metadata": {},
   "outputs": [
    {
     "name": "stdout",
     "output_type": "stream",
     "text": [
      "[88354, 'Pedro Álvarez', 26, ['Asistente', 'Gestor comercial'], 3]\n"
     ]
    }
   ],
   "source": [
    "#2. Tercer empleado\n",
    "print(empleados_total[2])"
   ]
  },
  {
   "cell_type": "code",
   "execution_count": 128,
   "id": "f148cf79",
   "metadata": {},
   "outputs": [
    {
     "name": "stdout",
     "output_type": "stream",
     "text": [
      "['Asistente', 'Gestor comercial']\n"
     ]
    }
   ],
   "source": [
    "#Los puestos desempeñados por Pedro Álvarez, ordenados de atras a adelante (es decir, de Gestor comercial a Asistente)\n",
    "empleos_pedro = [\"Asistente\",\"Gestor comercial\"]\n",
    "empleos_orden = sorted(empleos_pedro)\n",
    "print(empleos_orden)\n"
   ]
  },
  {
   "cell_type": "code",
   "execution_count": 130,
   "id": "77a704fa",
   "metadata": {},
   "outputs": [],
   "source": [
    "#no se hacer la última parte"
   ]
  },
  {
   "cell_type": "markdown",
   "id": "4da89624-0da3-4f91-aa5c-a084c5ee1b17",
   "metadata": {},
   "source": [
    "#### Ejercicio 2. \n",
    "\n",
    "Escribe un programa que te diga si una letra es una consonante o una vocal. Crea tu propia **FUNCIÓN**\n"
   ]
  },
  {
   "cell_type": "code",
   "execution_count": 139,
   "id": "c58bf610-92de-4a5a-a00d-652279ea33dd",
   "metadata": {},
   "outputs": [],
   "source": [
    "def tipo_letra(letra):\n",
    "    letra = letra.lower()\n",
    "    vocales = \"aeiou\" # Definimos las vocales en español\n",
    "    consonantes = \"zxcvbnmsdfghjklñqwrtyp\"\n",
    "    # Verificamos si la letra es una vocal\n",
    "    if letra in vocales:\n",
    "        return \"La letra es una vocal.\"\n",
    "    else:\n",
    "        return \"La letra introducida no es una vocal, probablemente sea una consonante, número, signo...\" #curandome en salud \n",
    "       "
   ]
  },
  {
   "cell_type": "code",
   "execution_count": 140,
   "id": "fb3f0a5f",
   "metadata": {},
   "outputs": [
    {
     "name": "stdout",
     "output_type": "stream",
     "text": [
      "La letra introducida no es una vocal, probablemente sea una consonante, número, signo...\n"
     ]
    }
   ],
   "source": [
    "ejercicio_2 = input(\"Introduce una letra: \")\n",
    "resultado = tipo_letra(letra)\n",
    "print(resultado)"
   ]
  },
  {
   "cell_type": "markdown",
   "id": "52065a6c-3d4c-44c0-a10b-958506c481b3",
   "metadata": {},
   "source": [
    "#### Ejercicio 3. \n",
    "\n",
    "Escribe un programa que calcule la edad humana de un perro.\n",
    "Tienes que pedirle al usuario la edad del perro en años.\n",
    "Si el usuario introduce un número negativo, imprime que la cifra facilitada no tiene sentido. Si el perro tiene un año, son 14 años humanos. Si tiene 2 años, son 22 años humanos.\n",
    "A partir de los 2 años, el cálculo es el siguiente: a la edad del perro se le restan 2 años, el resultado se multiplica por 5 y, finalmente, se le suma 22.\n",
    "Usa una función sin argumentos de entrada ni de salida (muestra toda la información con print())"
   ]
  },
  {
   "cell_type": "code",
   "execution_count": 141,
   "id": "9c59c801-1fe1-4a6d-a000-f85ca738ed00",
   "metadata": {},
   "outputs": [],
   "source": [
    "\n",
    "def edad_perro_humano():\n",
    "    edad_introducida = int(input(\"¿Cuál es la edad de su perro en años: \"))\n",
    "    if edad_introducida < 0:\n",
    "        print(\"La cifra facilitada no tiene sentido.\")\n",
    "    elif edad_introducida ==1:\n",
    "        print(\"La edad humana del perro es 14 años.\")\n",
    "    elif edad_introducida == 2:\n",
    "        print(\"La edad humana del perro es 22 años.\")\n",
    "    else:\n",
    "        edad_humana = (edad_introducida - 2) * 5 + 22\n",
    "    print(f\"La edad humana del perro es {edad_humana} años.\")"
   ]
  },
  {
   "cell_type": "code",
   "execution_count": 142,
   "id": "5487c48f",
   "metadata": {},
   "outputs": [
    {
     "name": "stdout",
     "output_type": "stream",
     "text": [
      "La edad humana del perro es 37 años.\n"
     ]
    }
   ],
   "source": [
    "edad_perro_humano()"
   ]
  },
  {
   "cell_type": "markdown",
   "id": "2991309f-4208-431a-900c-d9bc734bb936",
   "metadata": {},
   "source": [
    "#### Ejercicio 4. \n",
    "\n",
    "Escribe un programa que te diga si una frase es un pangrama. Un pangrama es una frase que contiene todas las letras del alfabeto.\n",
    "Puedes tener espacios en blanco, pero NO  tendrás signos de puntuación, a excepción de las tildes.\n",
    "\n",
    "Ejemplo de pangrama:\n",
    "\n",
    "Extraño pan de col y kiwi se quemó bajo fugaz vaho "
   ]
  },
  {
   "cell_type": "code",
   "execution_count": 144,
   "id": "9a349c1e-15ab-4253-97f8-2a07a263791d",
   "metadata": {},
   "outputs": [],
   "source": [
    "def frase_pangrama():\n",
    "    texto_introducido = input(\"Escriba su frase: \").lower()\n",
    "    alfabeto = \"aábcdeéfghiíjklmnñoópqrstuúvwxyz\" # Definimos el alfabeto español con tilde\n",
    "        # Hacemos un bucle para que vaya por todas las letras y compuerbe si cada letra del alfabeto está en la frase\n",
    "    for letra in alfabeto:\n",
    "        if letra not in texto_introducido:\n",
    "            print(\"La frase NO es un pangrama.\")\n",
    "            return\n",
    "            print(\"La frase es un pangrama.\")"
   ]
  },
  {
   "cell_type": "code",
   "execution_count": 145,
   "id": "28df3750",
   "metadata": {},
   "outputs": [
    {
     "name": "stdout",
     "output_type": "stream",
     "text": [
      "La frase NO es un pangrama.\n"
     ]
    }
   ],
   "source": [
    "frase_pangrama()"
   ]
  },
  {
   "cell_type": "markdown",
   "id": "3dbb76e0-79b2-45e8-9034-58ee9cbd82bb",
   "metadata": {},
   "source": [
    "#### Ejercicio 5. \n",
    "\n",
    "Escribe un programa que use diccionarios para traducir palabras entre varios idiomas.\n",
    "Deberás pedirle al usuario una palabra por teclado, ver si está en tu diccionario. En caso de que esté, deberás mostrar la traducción de esa palabra.\n",
    "\n",
    "Ejemplo de diccionario:\n",
    "\n",
    "```python\n",
    "{\"file\": \"Fichier\", \"new\": \"Nouveau\", \"open\": \"Ouvrir\", \"save\": \"Enregistrer\", \"save as\": \"Enregistrer sous\", \"print preview\": \"Apercu avant impressioner\", \"print\": \"Imprimer\", \"close\": \"Fermer\", \"exit\": \"Quitter\"}\n"
   ]
  },
  {
   "cell_type": "code",
   "execution_count": 86,
   "id": "c3aede35",
   "metadata": {},
   "outputs": [],
   "source": [
    "def traductor():\n",
    "    # Definimos el diccionario del ejercicio\n",
    "    diccionario = {\"file\": \"Fichier\", \"new\": \"Nouveau\", \"open\": \"Ouvrir\", \n",
    "                   \"save\": \"Enregistrer\", \"save as\": \"Enregistrer sous\", \n",
    "                   \"print preview\": \"Apercu avant impressioner\", \"print\": \"Imprimer\", \n",
    "                   \"close\": \"Fermer\", \"exit\": \"Quitter\"}\n",
    "    palabra = input(\"¿Qué palabra desea traducir?: \").lower()\n",
    "\n",
    "    # Comprobamos si la palabra están en el diccionario\n",
    "    if palabra in diccionario:\n",
    "        traduccion = diccionario[palabra]\n",
    "        print(f\"La traducción de '{palabra}' es: {traduccion}\")\n",
    "    else:\n",
    "        print(\"La palabra no están en el diccionario.\")\n"
   ]
  },
  {
   "cell_type": "code",
   "execution_count": 85,
   "id": "fdf6f8cf",
   "metadata": {},
   "outputs": [
    {
     "name": "stdout",
     "output_type": "stream",
     "text": [
      "La traducción de 'print' es: Imprimer\n"
     ]
    }
   ],
   "source": [
    "traductor()"
   ]
  },
  {
   "cell_type": "markdown",
   "id": "61967ca4-7e06-44b3-ad7b-adbc0e71671a",
   "metadata": {},
   "source": [
    "#### Ejercicio 6. (Bonus).\n",
    "\n",
    "Usando `OOP` modela un theremin (es un instrumento musical que se toca modificando el campo electromagnético, por si tenías curiosidad).\n",
    "Tendrá de atributos la marca, el modelo, el peso, la potencia y la batería.\n",
    "\n",
    "Todos los instrumentos se crean con un peso predeterminado de 500, una potencia de 50 y una batería de 200.\n",
    "\n",
    "Cuando se recarga la batería vale 200.\n",
    "\n",
    "Cuando se toca, se muestra por pantalla que está sonando y la batería disminuye 10 (no siendo nunca negativo).\n",
    "Si no hay batería, no puede sonar. Crea un instrumento, tócalo mientras quede batería, cárgalo y no lo vuelvas a tocar.\n"
   ]
  },
  {
   "cell_type": "code",
   "execution_count": 97,
   "id": "8082c8cd-03a9-478e-aa72-4ec1306e1bb2",
   "metadata": {},
   "outputs": [],
   "source": [
    "class Theremin:\n",
    "    def __init__(self, marca, modelo, peso=500, potencia=50, bateria=200):\n",
    "        self.marca_instrumento = marca\n",
    "        self.modelo_instrumento = modelo\n",
    "        self.peso_instrumento = peso\n",
    "        self.potencia_instrumento = potencia\n",
    "        self.bateria_instrumento = bateria    \n",
    "\n",
    " # Método para tocar\n",
    "    def tocar(self):\n",
    "        if self.bateria > 0:\n",
    "            print(f\" El theremin {self.marca_instrumento} {self.modelo_instrumento} está tocando\")\n",
    "        self.bateria -= 10\n",
    "        if self.bateria < 0:\n",
    "                self.bateria = 0\n",
    "        else:\n",
    "            print(\"El theremin modelo_molon no tiene batería.\")\n"
   ]
  },
  {
   "cell_type": "markdown",
   "id": "30f773b5-a6da-4446-b36b-722b2ee57730",
   "metadata": {},
   "source": [
    "#### Ejercicio 7. Extra (NO PUNTÚA).\n",
    "Una empresa usa dos listas  para guardar la información de sus empleados. Una lista guarda el nombre del empleado y la otra guarda su salario. Escribe un programa que cree esas dos listas originalmente vacías y que a través de un menú pueda hacer lo siguiente:\n",
    "    \n",
    "Inserta 1 para añadir un nuevo empleado y su salario\n",
    "\n",
    "Inserta 2 para imprimir los nombres y salarios de todos los empleados\n",
    "\n",
    "Inserta 3 para mostrar el número de empleados\n",
    "\n",
    "Inserta 4 para imprimir los nombres de los empleados con sueldos superiores a 400000\n",
    "\n",
    "Inserta 5 para subir un 5% los sueldos por debajo de 10000\n",
    "\n",
    "Inserta 6 para mostrar el total de todos los salarios\n",
    "\n",
    "Inserta 7 para salir del programa"
   ]
  },
  {
   "cell_type": "code",
   "execution_count": 129,
   "id": "67858e27-b7f5-4e05-bc50-3fca698ad22a",
   "metadata": {},
   "outputs": [],
   "source": [
    "#Creamos las liastas\n",
    "nombre_empleado = []\n",
    "salario_empleado = []\n",
    "\n"
   ]
  },
  {
   "cell_type": "markdown",
   "id": "e33a0e21-476e-4103-b889-a6b3e76b99f3",
   "metadata": {},
   "source": [
    "\n",
    "####  Ejercicio 8. EXTRA (NO PUNTÚA).\n",
    "\n",
    "Escribe un programa que __USE RECURSIVIDAD__ para decidir cuál es la película de Pixar favorita de un usuario.\n",
    "El programa preguntará al usuario cuál de 2 películas es su favorita, y con esa favorita se le volverá a preguntar entre esa y otra película cuál es su favorita...y así hasta que el usuario haya decidido de entre todas cuál es su favorita.\n",
    "\n",
    "Pista: si no quieres cambiar una lista, usa copy() y tendrás una copia que es otro objeto\n",
    "\n"
   ]
  },
  {
   "cell_type": "code",
   "execution_count": null,
   "id": "c9936fd4-6d29-4535-9f34-a6f289d18d8b",
   "metadata": {},
   "outputs": [
    {
     "name": "stdout",
     "output_type": "stream",
     "text": [
      "Si prefieres Toy Story marca 1, si prefieres Soul marca 2: 1\n",
      "Prefieres Toy Story\n",
      "Si prefieres Toy Story marca 1, si prefieres Up marca 2: 2\n",
      "Prefieres Up\n",
      "Si prefieres Up marca 1, si prefieres Coco marca 2: 2\n",
      "Prefieres Coco\n",
      "Si prefieres Coco marca 1, si prefieres Luca marca 2: 1\n",
      "Prefieres Coco\n",
      "Si prefieres Coco marca 1, si prefieres Monsters marca 2: 2\n",
      "Prefieres Monsters\n",
      "Si prefieres Monsters marca 1, si prefieres Inside Out marca 2: 1\n",
      "Prefieres Monsters\n",
      "Si prefieres Monsters marca 1, si prefieres WallE marca 2: 2\n",
      "Prefieres WallE\n",
      "Si prefieres WallE marca 1, si prefieres Buscando a Nemo marca 2: 2\n",
      "Prefieres Buscando a Nemo\n",
      "Si prefieres Buscando a Nemo marca 1, si prefieres Los increíbles marca 2: 1\n",
      "Prefieres Buscando a Nemo\n",
      "\n",
      "Prefieres finalmente Buscando a Nemo\n"
     ]
    }
   ],
   "source": []
  },
  {
   "cell_type": "code",
   "execution_count": 1,
   "id": "10a7b881",
   "metadata": {},
   "outputs": [],
   "source": [
    "# FIN DEL EXAMEN"
   ]
  }
 ],
 "metadata": {
  "kernelspec": {
   "display_name": "Python 3",
   "language": "python",
   "name": "python3"
  },
  "language_info": {
   "codemirror_mode": {
    "name": "ipython",
    "version": 3
   },
   "file_extension": ".py",
   "mimetype": "text/x-python",
   "name": "python",
   "nbconvert_exporter": "python",
   "pygments_lexer": "ipython3",
   "version": "3.11.3"
  }
 },
 "nbformat": 4,
 "nbformat_minor": 5
}
